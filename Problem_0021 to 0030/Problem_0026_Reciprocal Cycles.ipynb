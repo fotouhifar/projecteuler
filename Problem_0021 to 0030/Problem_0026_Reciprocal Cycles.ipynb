{
 "cells": [
  {
   "cell_type": "code",
   "execution_count": 10,
   "id": "ef1bb85e",
   "metadata": {},
   "outputs": [],
   "source": [
    "from sympy import nextprime"
   ]
  },
  {
   "cell_type": "code",
   "execution_count": 27,
   "id": "8491ec96",
   "metadata": {},
   "outputs": [],
   "source": [
    "last_prime = 1"
   ]
  },
  {
   "cell_type": "code",
   "execution_count": 28,
   "id": "c9777de6",
   "metadata": {},
   "outputs": [],
   "source": [
    "def recurring_cycle(d):\n",
    "    return 1/d\n",
    "    "
   ]
  },
  {
   "cell_type": "code",
   "execution_count": 29,
   "id": "5d8ce29b",
   "metadata": {},
   "outputs": [
    {
     "name": "stdout",
     "output_type": "stream",
     "text": [
      "2 0.5\n",
      "3 0.3333333333333333\n",
      "5 0.2\n",
      "7 0.14285714285714285\n",
      "11 0.09090909090909091\n",
      "13 0.07692307692307693\n",
      "17 0.058823529411764705\n",
      "19 0.05263157894736842\n",
      "23 0.043478260869565216\n",
      "29 0.034482758620689655\n"
     ]
    }
   ],
   "source": [
    "for i in range(10):\n",
    "    last_prime = nextprime(last_prime)\n",
    "    print(last_prime, recurring_cycle(last_prime))"
   ]
  },
  {
   "cell_type": "code",
   "execution_count": null,
   "id": "028f6188",
   "metadata": {},
   "outputs": [],
   "source": []
  },
  {
   "cell_type": "markdown",
   "id": "1fb3a970",
   "metadata": {},
   "source": [
    "https://mathworld.wolfram.com/FullReptendPrime.html"
   ]
  },
  {
   "cell_type": "code",
   "execution_count": null,
   "id": "a0a2a06e",
   "metadata": {},
   "outputs": [],
   "source": []
  }
 ],
 "metadata": {
  "kernelspec": {
   "display_name": "Python 3 (ipykernel)",
   "language": "python",
   "name": "python3"
  },
  "language_info": {
   "codemirror_mode": {
    "name": "ipython",
    "version": 3
   },
   "file_extension": ".py",
   "mimetype": "text/x-python",
   "name": "python",
   "nbconvert_exporter": "python",
   "pygments_lexer": "ipython3",
   "version": "3.9.13"
  }
 },
 "nbformat": 4,
 "nbformat_minor": 5
}
