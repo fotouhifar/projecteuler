{
 "cells": [
  {
   "cell_type": "markdown",
   "id": "1fb3a970",
   "metadata": {},
   "source": [
    "https://mathworld.wolfram.com/FullReptendPrime.html"
   ]
  },
  {
   "cell_type": "code",
   "execution_count": 1,
   "id": "ef1bb85e",
   "metadata": {},
   "outputs": [],
   "source": [
    "from sympy import nextprime, prevprime"
   ]
  },
  {
   "cell_type": "code",
   "execution_count": 2,
   "id": "a0a2a06e",
   "metadata": {},
   "outputs": [],
   "source": [
    "# Python3 program to find repeating\n",
    "# sequence in a fraction\n",
    "\n",
    "# This function returns repeating sequence\n",
    "# of a fraction.If repeating sequence doesn't\n",
    "# exist, then returns empty string\n",
    "\n",
    "\n",
    "def fractionToDecimal(numr, denr):\n",
    "\n",
    "    # Initialize result\n",
    "    res = \"\"\n",
    "\n",
    "    # Create a map to store already seen\n",
    "    # remainders. Remainder is used as key\n",
    "    # and its position in result is stored\n",
    "    # as value. Note that we need position\n",
    "    # for cases like 1/6. In this case,\n",
    "    # the recurring sequence doesn't start\n",
    "    # from first remainder.\n",
    "    mp = {}\n",
    "\n",
    "    # Find first remainder\n",
    "    rem = numr % denr\n",
    "\n",
    "    # Keep finding remainder until either\n",
    "    # remainder becomes 0 or repeats\n",
    "    while ((rem != 0) and (rem not in mp)):\n",
    "\n",
    "        # Store this remainder\n",
    "        mp[rem] = len(res)\n",
    "\n",
    "        # Multiply remainder with 10\n",
    "        rem = rem * 10\n",
    "\n",
    "        # Append rem / denr to result\n",
    "        res_part = rem // denr\n",
    "        res += str(res_part)\n",
    "\n",
    "        # Update remainder\n",
    "        rem = rem % denr\n",
    "\n",
    "    if (rem == 0):\n",
    "        return \"\"\n",
    "    else:\n",
    "        return res[mp[rem]:]\n",
    "\n"
   ]
  },
  {
   "cell_type": "code",
   "execution_count": null,
   "id": "8491ec96",
   "metadata": {},
   "outputs": [],
   "source": []
  },
  {
   "cell_type": "code",
   "execution_count": 3,
   "id": "c9777de6",
   "metadata": {},
   "outputs": [],
   "source": [
    "def recurring_cycle(d):\n",
    "    return fractionToDecimal(1,d)\n",
    "    "
   ]
  },
  {
   "cell_type": "code",
   "execution_count": 4,
   "id": "5d8ce29b",
   "metadata": {},
   "outputs": [
    {
     "name": "stdout",
     "output_type": "stream",
     "text": [
      "1/ 997 RC lenght=  166 Ratio=  6.0\n",
      "1/ 991 RC lenght=  495 Ratio=  2.0\n",
      "1/ 983 RC lenght=  982 Ratio=  1.0\n",
      "==============================================================\n",
      "1/ 983   |  RC lenght=  982   |  Ratio Prime/RC Lenght=  1.0\n"
     ]
    }
   ],
   "source": [
    "max_len = 1\n",
    "last_prime = 1000\n",
    "target_prime = 1000\n",
    "\n",
    "while  target_prime != max_len+1:\n",
    "    last_prime = prevprime(last_prime)\n",
    "    rc = recurring_cycle(last_prime)\n",
    "    if max_len < len(rc):\n",
    "        max_len = len(rc)\n",
    "        target_prime = last_prime\n",
    "        print(\"1/\", last_prime, \"RC lenght= \", len(rc), \"Ratio= \", round(last_prime/len(rc),1))\n",
    "print(\"==============================================================\")\n",
    "print(\"1/\", target_prime, \"  |  RC lenght= \", max_len, \"  |  Ratio Prime/RC Lenght= \", round(target_prime/max_len,1))\n",
    "\n"
   ]
  },
  {
   "cell_type": "code",
   "execution_count": 5,
   "id": "028f6188",
   "metadata": {
    "scrolled": true
   },
   "outputs": [
    {
     "name": "stdout",
     "output_type": "stream",
     "text": [
      "1 /  983  = 0. 0010172939979654120040691759918616480162767039674465920651068158697863682604272634791454730417090539165818921668362156663275686673448626653102746693794506612410986775178026449643947100712105798575788402848423194303153611393692777212614445574771108850457782299084435401831129196337741607324516785350966429298067141403865717192268565615462868769074262461851475076297049847405900305188199389623601220752797558494404883011190233977619532044760935910478128179043743641912512716174974567650050864699898270600203458799593082400813835198372329603255340793489318413021363173957273652085452695829094608341810783316378433367243133265513733468972533062054933875890132248219735503560528992878942014242115971515768056968463886063072227873855544252288911495422177009155645981688708036622583926754832146490335707019328585961342828077314343845371312309257375381485249237029501525940996948118006103763987792472024415055951169888097660223804679552390640895218718209562563580874872838250254323499491353  . . . \n"
     ]
    }
   ],
   "source": [
    "print(\"1 / \", target_prime, \" = 0.\", fractionToDecimal(1,target_prime), \" . . . \")"
   ]
  },
  {
   "cell_type": "code",
   "execution_count": null,
   "id": "b41c7bc8",
   "metadata": {},
   "outputs": [],
   "source": []
  },
  {
   "cell_type": "code",
   "execution_count": 7,
   "id": "330f4a69",
   "metadata": {},
   "outputs": [
    {
     "data": {
      "text/plain": [
       "982"
      ]
     },
     "execution_count": 7,
     "metadata": {},
     "output_type": "execute_result"
    }
   ],
   "source": [
    "max_len"
   ]
  },
  {
   "cell_type": "code",
   "execution_count": 8,
   "id": "664d4fb2",
   "metadata": {},
   "outputs": [
    {
     "data": {
      "text/plain": [
       "983"
      ]
     },
     "execution_count": 8,
     "metadata": {},
     "output_type": "execute_result"
    }
   ],
   "source": [
    "target_prime"
   ]
  },
  {
   "cell_type": "code",
   "execution_count": null,
   "id": "a9e03862",
   "metadata": {},
   "outputs": [],
   "source": []
  }
 ],
 "metadata": {
  "kernelspec": {
   "display_name": "Python 3 (ipykernel)",
   "language": "python",
   "name": "python3"
  },
  "language_info": {
   "codemirror_mode": {
    "name": "ipython",
    "version": 3
   },
   "file_extension": ".py",
   "mimetype": "text/x-python",
   "name": "python",
   "nbconvert_exporter": "python",
   "pygments_lexer": "ipython3",
   "version": "3.9.13"
  }
 },
 "nbformat": 4,
 "nbformat_minor": 5
}
