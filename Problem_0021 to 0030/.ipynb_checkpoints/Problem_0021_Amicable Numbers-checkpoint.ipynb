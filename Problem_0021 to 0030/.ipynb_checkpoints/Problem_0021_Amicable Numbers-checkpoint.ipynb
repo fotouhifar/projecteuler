{
 "cells": [
  {
   "cell_type": "code",
   "execution_count": 42,
   "id": "ffff8dd4",
   "metadata": {},
   "outputs": [],
   "source": [
    "from sympy import divisors"
   ]
  },
  {
   "cell_type": "code",
   "execution_count": 43,
   "id": "70c698b4",
   "metadata": {},
   "outputs": [],
   "source": [
    "Amicable_Numbers = []"
   ]
  },
  {
   "cell_type": "code",
   "execution_count": 44,
   "id": "d2a9ab54",
   "metadata": {},
   "outputs": [],
   "source": [
    "#sum of proper divisors of n\n",
    " \n",
    "def d(n):\n",
    "    return sum(divisors(n)[:-1])"
   ]
  },
  {
   "cell_type": "code",
   "execution_count": 45,
   "id": "60d6cd5f",
   "metadata": {},
   "outputs": [],
   "source": [
    "for n in range(2, 10_000):\n",
    "    m = d(n)\n",
    "    if d(m) == n and m < n:\n",
    "        Amicable_Numbers.extend([m,n])"
   ]
  },
  {
   "cell_type": "code",
   "execution_count": 46,
   "id": "a0bc6abd",
   "metadata": {},
   "outputs": [
    {
     "data": {
      "text/plain": [
       "[220, 284, 1184, 1210, 2620, 2924, 5020, 5564, 6232, 6368]"
      ]
     },
     "execution_count": 46,
     "metadata": {},
     "output_type": "execute_result"
    }
   ],
   "source": [
    "Amicable_Numbers"
   ]
  },
  {
   "cell_type": "code",
   "execution_count": 47,
   "id": "cfac7345",
   "metadata": {},
   "outputs": [
    {
     "data": {
      "text/plain": [
       "31626"
      ]
     },
     "execution_count": 47,
     "metadata": {},
     "output_type": "execute_result"
    }
   ],
   "source": [
    "sum(Amicable_Numbers)"
   ]
  },
  {
   "cell_type": "code",
   "execution_count": null,
   "id": "15593077",
   "metadata": {
    "collapsed": true
   },
   "outputs": [],
   "source": []
  }
 ],
 "metadata": {
  "kernelspec": {
   "display_name": "Python 3 (ipykernel)",
   "language": "python",
   "name": "python3"
  },
  "language_info": {
   "codemirror_mode": {
    "name": "ipython",
    "version": 3
   },
   "file_extension": ".py",
   "mimetype": "text/x-python",
   "name": "python",
   "nbconvert_exporter": "python",
   "pygments_lexer": "ipython3",
   "version": "3.9.13"
  }
 },
 "nbformat": 4,
 "nbformat_minor": 5
}
