{
 "cells": [
  {
   "cell_type": "code",
   "execution_count": 1,
   "id": "bf7b8983",
   "metadata": {},
   "outputs": [],
   "source": [
    "def quadratics(n, a, b):\n",
    "    return n**2 + a*n + b"
   ]
  },
  {
   "cell_type": "code",
   "execution_count": null,
   "id": "014a5e42",
   "metadata": {},
   "outputs": [],
   "source": []
  }
 ],
 "metadata": {
  "kernelspec": {
   "display_name": "Python 3 (ipykernel)",
   "language": "python",
   "name": "python3"
  },
  "language_info": {
   "codemirror_mode": {
    "name": "ipython",
    "version": 3
   },
   "file_extension": ".py",
   "mimetype": "text/x-python",
   "name": "python",
   "nbconvert_exporter": "python",
   "pygments_lexer": "ipython3",
   "version": "3.9.13"
  }
 },
 "nbformat": 4,
 "nbformat_minor": 5
}
