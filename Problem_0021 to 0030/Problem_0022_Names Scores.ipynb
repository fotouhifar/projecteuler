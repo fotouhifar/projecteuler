{
 "cells": [
  {
   "cell_type": "code",
   "execution_count": 26,
   "id": "63058c66",
   "metadata": {},
   "outputs": [],
   "source": [
    "with open('files/0022_names.txt') as f:\n",
    "    names = f.read()\n",
    "    "
   ]
  },
  {
   "cell_type": "code",
   "execution_count": 27,
   "id": "9d941332",
   "metadata": {},
   "outputs": [],
   "source": [
    "names = sorted([w[1:-1] for w in names.split(\",\")])"
   ]
  },
  {
   "cell_type": "code",
   "execution_count": 28,
   "id": "136e75a8",
   "metadata": {},
   "outputs": [
    {
     "data": {
      "text/plain": [
       "871198282"
      ]
     },
     "execution_count": 28,
     "metadata": {},
     "output_type": "execute_result"
    }
   ],
   "source": [
    "sum([((i+1) * sum([ord(c)-64 for c in names[i]])) for i in range(len(names))])"
   ]
  },
  {
   "cell_type": "code",
   "execution_count": null,
   "id": "da3d2949",
   "metadata": {},
   "outputs": [],
   "source": []
  }
 ],
 "metadata": {
  "kernelspec": {
   "display_name": "Python 3 (ipykernel)",
   "language": "python",
   "name": "python3"
  },
  "language_info": {
   "codemirror_mode": {
    "name": "ipython",
    "version": 3
   },
   "file_extension": ".py",
   "mimetype": "text/x-python",
   "name": "python",
   "nbconvert_exporter": "python",
   "pygments_lexer": "ipython3",
   "version": "3.9.13"
  }
 },
 "nbformat": 4,
 "nbformat_minor": 5
}
