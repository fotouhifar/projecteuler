{
 "cells": [
  {
   "cell_type": "code",
   "execution_count": 16,
   "id": "fff2fd23",
   "metadata": {},
   "outputs": [],
   "source": [
    "from itertools import permutations"
   ]
  },
  {
   "cell_type": "code",
   "execution_count": 52,
   "id": "2b982a4a",
   "metadata": {},
   "outputs": [],
   "source": [
    "p = permutations(range(10))"
   ]
  },
  {
   "cell_type": "code",
   "execution_count": 53,
   "id": "3e8708c8",
   "metadata": {},
   "outputs": [
    {
     "data": {
      "text/plain": [
       "'2783915460'"
      ]
     },
     "execution_count": 53,
     "metadata": {},
     "output_type": "execute_result"
    }
   ],
   "source": [
    "''.join(list(map(str, list(p)[999_999])))"
   ]
  },
  {
   "cell_type": "code",
   "execution_count": null,
   "id": "ce398c4e",
   "metadata": {},
   "outputs": [],
   "source": []
  }
 ],
 "metadata": {
  "kernelspec": {
   "display_name": "Python 3 (ipykernel)",
   "language": "python",
   "name": "python3"
  },
  "language_info": {
   "codemirror_mode": {
    "name": "ipython",
    "version": 3
   },
   "file_extension": ".py",
   "mimetype": "text/x-python",
   "name": "python",
   "nbconvert_exporter": "python",
   "pygments_lexer": "ipython3",
   "version": "3.9.13"
  }
 },
 "nbformat": 4,
 "nbformat_minor": 5
}
