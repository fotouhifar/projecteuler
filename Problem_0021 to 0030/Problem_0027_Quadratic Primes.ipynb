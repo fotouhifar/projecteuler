{
 "cells": [
  {
   "cell_type": "code",
   "execution_count": 1,
   "id": "bf7b8983",
   "metadata": {},
   "outputs": [],
   "source": [
    "def quadratics(n, a, b):\n",
    "    return n**2 + a*n + b"
   ]
  },
  {
   "cell_type": "code",
   "execution_count": 2,
   "id": "014a5e42",
   "metadata": {},
   "outputs": [
    {
     "name": "stdout",
     "output_type": "stream",
     "text": [
      "0 41\n",
      "1 43\n",
      "2 47\n",
      "3 53\n",
      "4 61\n",
      "5 71\n",
      "6 83\n",
      "7 97\n",
      "8 113\n",
      "9 131\n",
      "10 151\n",
      "11 173\n",
      "12 197\n",
      "13 223\n",
      "14 251\n",
      "15 281\n",
      "16 313\n",
      "17 347\n",
      "18 383\n",
      "19 421\n",
      "20 461\n",
      "21 503\n",
      "22 547\n",
      "23 593\n",
      "24 641\n",
      "25 691\n",
      "26 743\n",
      "27 797\n",
      "28 853\n",
      "29 911\n",
      "30 971\n",
      "31 1033\n",
      "32 1097\n",
      "33 1163\n",
      "34 1231\n",
      "35 1301\n",
      "36 1373\n",
      "37 1447\n",
      "38 1523\n",
      "39 1601\n"
     ]
    }
   ],
   "source": [
    "for n in range(40):\n",
    "    print(n, quadratics(n,1,41))"
   ]
  },
  {
   "cell_type": "code",
   "execution_count": 16,
   "id": "d364eb4a",
   "metadata": {},
   "outputs": [
    {
     "name": "stdout",
     "output_type": "stream",
     "text": [
      "0 2 1\n"
     ]
    }
   ],
   "source": [
    "for i in range(2**10-2):\n",
    "    for j in range(i+2,2**10):\n",
    "        num_list = [x for x in range(i,j)]\n",
    "        sum_num = sum(num_list)\n",
    "        if sum_num > 2048: break\n",
    "        if sum_num in target_list:\n",
    "            print(i,j,sum_num)\n",
    "        "
   ]
  },
  {
   "cell_type": "code",
   "execution_count": 9,
   "id": "7bd3facf",
   "metadata": {},
   "outputs": [],
   "source": [
    "target_list = [2**n for n in range(12)]"
   ]
  },
  {
   "cell_type": "code",
   "execution_count": null,
   "id": "5c597d64",
   "metadata": {},
   "outputs": [],
   "source": []
  }
 ],
 "metadata": {
  "kernelspec": {
   "display_name": "Python 3 (ipykernel)",
   "language": "python",
   "name": "python3"
  },
  "language_info": {
   "codemirror_mode": {
    "name": "ipython",
    "version": 3
   },
   "file_extension": ".py",
   "mimetype": "text/x-python",
   "name": "python",
   "nbconvert_exporter": "python",
   "pygments_lexer": "ipython3",
   "version": "3.9.13"
  }
 },
 "nbformat": 4,
 "nbformat_minor": 5
}
