{
 "cells": [
  {
   "cell_type": "code",
   "execution_count": 14,
   "id": "ec08ced0",
   "metadata": {},
   "outputs": [],
   "source": [
    "from sympy import divisors"
   ]
  },
  {
   "cell_type": "code",
   "execution_count": 15,
   "id": "0e263a74",
   "metadata": {},
   "outputs": [],
   "source": [
    "def d(n):\n",
    "    return sum(divisors(n)[:-1])"
   ]
  },
  {
   "cell_type": "code",
   "execution_count": 16,
   "id": "093a2dae",
   "metadata": {
    "scrolled": true
   },
   "outputs": [],
   "source": [
    "abundants = set(i for i in range(1,28124) if d(i) > i)"
   ]
  },
  {
   "cell_type": "code",
   "execution_count": 17,
   "id": "f6e5dbd2",
   "metadata": {},
   "outputs": [],
   "source": [
    "def abundantsum(i):\n",
    "    return any(i-a in abundants for a in abundants)"
   ]
  },
  {
   "cell_type": "code",
   "execution_count": 18,
   "id": "5f368f6d",
   "metadata": {},
   "outputs": [
    {
     "name": "stdout",
     "output_type": "stream",
     "text": [
      "4179871\n"
     ]
    }
   ],
   "source": [
    "print(sum(i for i in range(1,28124) if not abundantsum(i)))"
   ]
  },
  {
   "cell_type": "code",
   "execution_count": null,
   "id": "98cae883",
   "metadata": {},
   "outputs": [],
   "source": []
  }
 ],
 "metadata": {
  "kernelspec": {
   "display_name": "Python 3 (ipykernel)",
   "language": "python",
   "name": "python3"
  },
  "language_info": {
   "codemirror_mode": {
    "name": "ipython",
    "version": 3
   },
   "file_extension": ".py",
   "mimetype": "text/x-python",
   "name": "python",
   "nbconvert_exporter": "python",
   "pygments_lexer": "ipython3",
   "version": "3.9.13"
  }
 },
 "nbformat": 4,
 "nbformat_minor": 5
}
