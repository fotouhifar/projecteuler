{
 "cells": [
  {
   "cell_type": "code",
   "execution_count": 148,
   "id": "7f5b434c",
   "metadata": {},
   "outputs": [],
   "source": [
    "from sympy.ntheory import primefactors, prime\n",
    "from sympy.ntheory.factor_ import factorint"
   ]
  },
  {
   "cell_type": "markdown",
   "id": "9651dd32",
   "metadata": {},
   "source": [
    "Link to the algorythm:\n",
    "https://mathschallenge.net/index.php?section=faq&ref=number/number_of_divisors\n",
    "\n",
    "\n",
    "Let d(n) be the number of divisors for the natural number, n.\n",
    "\n",
    "We begin by writing the number as a product of prime factors: n = p^a * q ^ b * r ^ c...\n",
    "\n",
    "then the number of divisors, d(n) = (a+1)(b+1)(c+1)..."
   ]
  },
  {
   "cell_type": "code",
   "execution_count": 150,
   "id": "be251cc8",
   "metadata": {},
   "outputs": [
    {
     "name": "stdout",
     "output_type": "stream",
     "text": [
      "triangle_number 3 number of divisors =  2\n",
      "======================\n",
      "triangle_number 6 number of divisors =  4\n",
      "======================\n",
      "triangle_number 28 number of divisors =  6\n",
      "======================\n",
      "triangle_number 36 number of divisors =  9\n",
      "======================\n",
      "triangle_number 120 number of divisors =  16\n",
      "======================\n",
      "triangle_number 300 number of divisors =  18\n",
      "======================\n",
      "triangle_number 528 number of divisors =  20\n",
      "======================\n",
      "triangle_number 630 number of divisors =  24\n",
      "======================\n",
      "triangle_number 2016 number of divisors =  36\n",
      "======================\n",
      "triangle_number 3240 number of divisors =  40\n",
      "======================\n",
      "triangle_number 5460 number of divisors =  48\n",
      "======================\n",
      "triangle_number 25200 number of divisors =  90\n",
      "======================\n",
      "triangle_number 73920 number of divisors =  112\n",
      "======================\n",
      "triangle_number 157080 number of divisors =  128\n",
      "======================\n",
      "triangle_number 437580 number of divisors =  144\n",
      "======================\n",
      "triangle_number 749700 number of divisors =  162\n",
      "======================\n",
      "triangle_number 1385280 number of divisors =  168\n",
      "======================\n",
      "triangle_number 1493856 number of divisors =  192\n",
      "======================\n",
      "triangle_number 2031120 number of divisors =  240\n",
      "======================\n",
      "triangle_number 2162160 number of divisors =  320\n",
      "======================\n",
      "triangle_number 17907120 number of divisors =  480\n",
      "======================\n",
      "triangle_number 76576500 number of divisors =  576\n",
      "======================\n"
     ]
    }
   ],
   "source": [
    "triangle_number = 0\n",
    "max_divisors = 0\n",
    "n=0\n",
    "factors_prod = 1\n",
    "max_found = 1\n",
    "\n",
    "while factors_prod < 500:\n",
    "    n += 1\n",
    "    triangle_number += n\n",
    "    factors_prod = 1\n",
    "    factorsint = factorint(triangle_number)\n",
    "    for f in factorsint:\n",
    "        factors_prod *= (factorsint[f]+1)\n",
    "    if max_found < factors_prod:\n",
    "        max_found = factors_prod\n",
    "        print(\"triangle_number\", triangle_number, \"number of divisors = \", factors_prod)\n",
    "        print(\"======================\")"
   ]
  },
  {
   "cell_type": "code",
   "execution_count": null,
   "id": "1be842b4",
   "metadata": {},
   "outputs": [],
   "source": []
  }
 ],
 "metadata": {
  "kernelspec": {
   "display_name": "Python 3 (ipykernel)",
   "language": "python",
   "name": "python3"
  },
  "language_info": {
   "codemirror_mode": {
    "name": "ipython",
    "version": 3
   },
   "file_extension": ".py",
   "mimetype": "text/x-python",
   "name": "python",
   "nbconvert_exporter": "python",
   "pygments_lexer": "ipython3",
   "version": "3.9.13"
  }
 },
 "nbformat": 4,
 "nbformat_minor": 5
}
