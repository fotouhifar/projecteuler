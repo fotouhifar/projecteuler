{
 "cells": [
  {
   "cell_type": "code",
   "execution_count": 4,
   "id": "ba948d6e",
   "metadata": {},
   "outputs": [],
   "source": [
    "from math import factorial as fact"
   ]
  },
  {
   "cell_type": "code",
   "execution_count": 10,
   "id": "41015ada",
   "metadata": {},
   "outputs": [],
   "source": [
    "def p(n):\n",
    "    return int(fact(2*n) / (fact(n)**2))"
   ]
  },
  {
   "cell_type": "code",
   "execution_count": 14,
   "id": "25b5e8d2",
   "metadata": {},
   "outputs": [
    {
     "name": "stdout",
     "output_type": "stream",
     "text": [
      "0  ->  1\n",
      "1  ->  2\n",
      "2  ->  6\n",
      "3  ->  20\n",
      "4  ->  70\n",
      "5  ->  252\n",
      "6  ->  924\n",
      "7  ->  3432\n",
      "8  ->  12870\n",
      "9  ->  48620\n",
      "10  ->  184756\n",
      "11  ->  705432\n",
      "12  ->  2704156\n",
      "13  ->  10400600\n",
      "14  ->  40116600\n",
      "15  ->  155117520\n",
      "16  ->  601080390\n",
      "17  ->  2333606220\n",
      "18  ->  9075135300\n",
      "19  ->  35345263800\n",
      "20  ->  137846528820\n"
     ]
    }
   ],
   "source": [
    "for n in range(21):\n",
    "    print(n ,\" -> \", p(n))"
   ]
  },
  {
   "cell_type": "code",
   "execution_count": 19,
   "id": "28f13855",
   "metadata": {},
   "outputs": [
    {
     "data": {
      "text/plain": [
       "137846528820"
      ]
     },
     "execution_count": 19,
     "metadata": {},
     "output_type": "execute_result"
    }
   ],
   "source": [
    "import scipy.special\n",
    "int(scipy.special.binom(40,20))"
   ]
  },
  {
   "cell_type": "code",
   "execution_count": 20,
   "id": "17fe42b1",
   "metadata": {},
   "outputs": [
    {
     "data": {
      "text/plain": [
       "137846528820"
      ]
     },
     "execution_count": 20,
     "metadata": {},
     "output_type": "execute_result"
    }
   ],
   "source": [
    "import scipy.special\n",
    "int(scipy.special.comb(40,20))"
   ]
  },
  {
   "cell_type": "code",
   "execution_count": 22,
   "id": "0993e545",
   "metadata": {},
   "outputs": [
    {
     "data": {
      "text/plain": [
       "137846528820"
      ]
     },
     "execution_count": 22,
     "metadata": {},
     "output_type": "execute_result"
    }
   ],
   "source": [
    "import math\n",
    "int(math.comb(40,20))"
   ]
  },
  {
   "cell_type": "code",
   "execution_count": 23,
   "id": "1a16dc35",
   "metadata": {},
   "outputs": [
    {
     "name": "stdout",
     "output_type": "stream",
     "text": [
      "137846528820\n"
     ]
    }
   ],
   "source": [
    "def binomial(n, k):\n",
    "    if 0 <= k <= n:\n",
    "        a= 1\n",
    "        b=1\n",
    "        for t in range(1, min(k, n - k) + 1):\n",
    "            a *= n\n",
    "            b *= t\n",
    "            n -= 1\n",
    "        return a // b\n",
    "    else:\n",
    "        return 0\n",
    "print(binomial(40,20))\n"
   ]
  },
  {
   "cell_type": "code",
   "execution_count": 25,
   "id": "71368f76",
   "metadata": {},
   "outputs": [],
   "source": [
    "from sympy.functions.combinatorial.factorials import  binomial"
   ]
  },
  {
   "cell_type": "code",
   "execution_count": 28,
   "id": "6058c357",
   "metadata": {},
   "outputs": [
    {
     "data": {
      "text/plain": [
       "137846528820"
      ]
     },
     "execution_count": 28,
     "metadata": {},
     "output_type": "execute_result"
    }
   ],
   "source": [
    "binomial(40,20)"
   ]
  },
  {
   "cell_type": "code",
   "execution_count": null,
   "id": "7ba85921",
   "metadata": {},
   "outputs": [],
   "source": []
  }
 ],
 "metadata": {
  "kernelspec": {
   "display_name": "Python 3 (ipykernel)",
   "language": "python",
   "name": "python3"
  },
  "language_info": {
   "codemirror_mode": {
    "name": "ipython",
    "version": 3
   },
   "file_extension": ".py",
   "mimetype": "text/x-python",
   "name": "python",
   "nbconvert_exporter": "python",
   "pygments_lexer": "ipython3",
   "version": "3.9.13"
  }
 },
 "nbformat": 4,
 "nbformat_minor": 5
}
