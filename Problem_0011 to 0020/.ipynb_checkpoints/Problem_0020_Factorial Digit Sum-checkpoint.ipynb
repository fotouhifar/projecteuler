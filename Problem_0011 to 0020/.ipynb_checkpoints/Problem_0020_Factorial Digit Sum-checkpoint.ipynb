{
 "cells": [
  {
   "cell_type": "code",
   "execution_count": 2,
   "id": "33a11e2c",
   "metadata": {},
   "outputs": [],
   "source": [
    "from sympy import factorial as f"
   ]
  },
  {
   "cell_type": "code",
   "execution_count": 8,
   "id": "ebc0d4ff",
   "metadata": {},
   "outputs": [
    {
     "data": {
      "text/plain": [
       "648"
      ]
     },
     "execution_count": 8,
     "metadata": {},
     "output_type": "execute_result"
    }
   ],
   "source": [
    "sum([int(d) for d in str(f(100))])"
   ]
  },
  {
   "cell_type": "code",
   "execution_count": null,
   "id": "d47e4591",
   "metadata": {},
   "outputs": [],
   "source": []
  }
 ],
 "metadata": {
  "kernelspec": {
   "display_name": "Python 3 (ipykernel)",
   "language": "python",
   "name": "python3"
  },
  "language_info": {
   "codemirror_mode": {
    "name": "ipython",
    "version": 3
   },
   "file_extension": ".py",
   "mimetype": "text/x-python",
   "name": "python",
   "nbconvert_exporter": "python",
   "pygments_lexer": "ipython3",
   "version": "3.9.13"
  }
 },
 "nbformat": 4,
 "nbformat_minor": 5
}
