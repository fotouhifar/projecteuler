{
 "cells": [
  {
   "cell_type": "code",
   "execution_count": 41,
   "id": "014957ed",
   "metadata": {},
   "outputs": [],
   "source": [
    "def collatz(n): \n",
    "    return n // 2 if n%2 == 0 else 3*n + 1"
   ]
  },
  {
   "cell_type": "code",
   "execution_count": 42,
   "id": "0d20f5b4",
   "metadata": {},
   "outputs": [],
   "source": [
    "def distance(n, dis_dict={1:1}):\n",
    "    if n not in dis_dict: \n",
    "        dis_dict[n] = distance(collatz(n)) + 1\n",
    "    return dis_dict[n]"
   ]
  },
  {
   "cell_type": "code",
   "execution_count": 43,
   "id": "3b1de92a",
   "metadata": {},
   "outputs": [
    {
     "data": {
      "text/plain": [
       "837799"
      ]
     },
     "execution_count": 43,
     "metadata": {},
     "output_type": "execute_result"
    }
   ],
   "source": [
    "max(range(1,1_000_000), key=distance)"
   ]
  },
  {
   "cell_type": "code",
   "execution_count": 44,
   "id": "b231439f",
   "metadata": {},
   "outputs": [
    {
     "data": {
      "text/plain": [
       "525"
      ]
     },
     "execution_count": 44,
     "metadata": {},
     "output_type": "execute_result"
    }
   ],
   "source": [
    "distance(837799)"
   ]
  },
  {
   "cell_type": "code",
   "execution_count": null,
   "id": "6da5e04f",
   "metadata": {},
   "outputs": [],
   "source": []
  }
 ],
 "metadata": {
  "kernelspec": {
   "display_name": "Python 3 (ipykernel)",
   "language": "python",
   "name": "python3"
  },
  "language_info": {
   "codemirror_mode": {
    "name": "ipython",
    "version": 3
   },
   "file_extension": ".py",
   "mimetype": "text/x-python",
   "name": "python",
   "nbconvert_exporter": "python",
   "pygments_lexer": "ipython3",
   "version": "3.9.13"
  }
 },
 "nbformat": 4,
 "nbformat_minor": 5
}
