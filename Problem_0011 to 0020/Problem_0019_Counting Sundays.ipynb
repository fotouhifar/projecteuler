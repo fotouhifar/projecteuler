{
 "cells": [
  {
   "cell_type": "code",
   "execution_count": 36,
   "id": "794bfb92",
   "metadata": {},
   "outputs": [],
   "source": [
    "from calendar import weekday"
   ]
  },
  {
   "cell_type": "code",
   "execution_count": 37,
   "id": "c231b6ec",
   "metadata": {},
   "outputs": [
    {
     "data": {
      "text/plain": [
       "171"
      ]
     },
     "execution_count": 37,
     "metadata": {},
     "output_type": "execute_result"
    }
   ],
   "source": [
    "sum(int(weekday(y, m, 1) == 6) for y in range(1901, 2001) for m in range(1, 13))"
   ]
  },
  {
   "cell_type": "markdown",
   "id": "cd88a26a",
   "metadata": {},
   "source": [
    "## Second approach - counting"
   ]
  },
  {
   "cell_type": "code",
   "execution_count": 38,
   "id": "857a1810",
   "metadata": {},
   "outputs": [],
   "source": [
    "current_day = 0 #1 Jan 1900\n",
    "year = 1900"
   ]
  },
  {
   "cell_type": "code",
   "execution_count": 45,
   "id": "13b28833",
   "metadata": {},
   "outputs": [],
   "source": [
    "months_days = {\n",
    "    0 : 31,\n",
    "    1 : 28,\n",
    "    2 : 31,\n",
    "    3 : 30,\n",
    "    4 : 31,\n",
    "    5 : 30,\n",
    "    6 : 31,\n",
    "    7 : 31,\n",
    "    8 : 30,\n",
    "    9 : 31,\n",
    "    10: 30,\n",
    "    11: 31 \n",
    "}"
   ]
  },
  {
   "cell_type": "code",
   "execution_count": 40,
   "id": "0f45512c",
   "metadata": {},
   "outputs": [],
   "source": [
    "current_day += 365\n",
    "current_day = current_day % 7\n",
    "count_sundays = 0"
   ]
  },
  {
   "cell_type": "code",
   "execution_count": 41,
   "id": "f88beb56",
   "metadata": {},
   "outputs": [],
   "source": [
    "for y in range(100):\n",
    "    for m in range(12):\n",
    "        if m == 1 and y % 4 == 0 and y % 100 != 0: # Leap year Feb\n",
    "            current_day += 29\n",
    "        else:\n",
    "            current_day += months_days[m]\n",
    "        \n",
    "        current_day = current_day % 7\n",
    "        if current_day == 6:\n",
    "            count_sundays += 1\n",
    "        "
   ]
  },
  {
   "cell_type": "code",
   "execution_count": 42,
   "id": "9dae9185",
   "metadata": {},
   "outputs": [
    {
     "data": {
      "text/plain": [
       "171"
      ]
     },
     "execution_count": 42,
     "metadata": {},
     "output_type": "execute_result"
    }
   ],
   "source": [
    "count_sundays"
   ]
  },
  {
   "cell_type": "code",
   "execution_count": null,
   "id": "e0cc1cd3",
   "metadata": {},
   "outputs": [],
   "source": []
  }
 ],
 "metadata": {
  "kernelspec": {
   "display_name": "Python 3 (ipykernel)",
   "language": "python",
   "name": "python3"
  },
  "language_info": {
   "codemirror_mode": {
    "name": "ipython",
    "version": 3
   },
   "file_extension": ".py",
   "mimetype": "text/x-python",
   "name": "python",
   "nbconvert_exporter": "python",
   "pygments_lexer": "ipython3",
   "version": "3.9.13"
  }
 },
 "nbformat": 4,
 "nbformat_minor": 5
}
