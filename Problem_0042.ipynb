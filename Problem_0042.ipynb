{
 "cells": [
  {
   "cell_type": "code",
   "execution_count": 29,
   "id": "664fcf44",
   "metadata": {},
   "outputs": [],
   "source": [
    "import sys"
   ]
  },
  {
   "cell_type": "code",
   "execution_count": 30,
   "id": "8afc3869",
   "metadata": {},
   "outputs": [],
   "source": [
    "with open('files/0042_words.txt') as f:\n",
    "    words = f.read()\n",
    "    "
   ]
  },
  {
   "cell_type": "code",
   "execution_count": 31,
   "id": "945b892e",
   "metadata": {},
   "outputs": [],
   "source": [
    "words = [w for w in words[1:-1].split('\",\"')]\n"
   ]
  },
  {
   "cell_type": "code",
   "execution_count": 32,
   "id": "a511dcc1",
   "metadata": {},
   "outputs": [],
   "source": [
    "def nth_triangle_number(n):\n",
    "    return (1/2)*n*(n+1)"
   ]
  },
  {
   "cell_type": "code",
   "execution_count": 33,
   "id": "f20ed7d6",
   "metadata": {},
   "outputs": [],
   "source": [
    "triangle_numbers = [1]"
   ]
  },
  {
   "cell_type": "code",
   "execution_count": 59,
   "id": "dd67bae0",
   "metadata": {},
   "outputs": [],
   "source": [
    "def ordminus64(c):\n",
    "    return ord(c)-64"
   ]
  },
  {
   "cell_type": "code",
   "execution_count": 60,
   "id": "d88f4399",
   "metadata": {},
   "outputs": [],
   "source": [
    "\n",
    "def act_on_iter(iter_obj, i):\n",
    "    return iter_obj(i)"
   ]
  },
  {
   "cell_type": "code",
   "execution_count": 61,
   "id": "cb744591",
   "metadata": {},
   "outputs": [
    {
     "name": "stdout",
     "output_type": "stream",
     "text": [
      "['A']\n",
      "[1]\n",
      "['A', 'B', 'I', 'L', 'I', 'T', 'Y']\n",
      "[1, 2, 9, 12, 9, 20, 25]\n",
      "['A', 'B', 'L', 'E']\n",
      "[1, 2, 12, 5]\n"
     ]
    }
   ],
   "source": [
    "for word in words[:3]:\n",
    "    print([w for w in word])\n",
    "    print(list(map(ordminus64, [w for w in word])))\n",
    "    \n",
    "\n",
    "    \n",
    "    "
   ]
  },
  {
   "cell_type": "code",
   "execution_count": 36,
   "id": "d359c2c2",
   "metadata": {},
   "outputs": [
    {
     "data": {
      "text/plain": [
       "65"
      ]
     },
     "execution_count": 36,
     "metadata": {},
     "output_type": "execute_result"
    }
   ],
   "source": [
    "\n",
    "ord('A')"
   ]
  },
  {
   "cell_type": "code",
   "execution_count": null,
   "id": "4403021a",
   "metadata": {},
   "outputs": [],
   "source": []
  }
 ],
 "metadata": {
  "kernelspec": {
   "display_name": "Python 3 (ipykernel)",
   "language": "python",
   "name": "python3"
  },
  "language_info": {
   "codemirror_mode": {
    "name": "ipython",
    "version": 3
   },
   "file_extension": ".py",
   "mimetype": "text/x-python",
   "name": "python",
   "nbconvert_exporter": "python",
   "pygments_lexer": "ipython3",
   "version": "3.9.13"
  }
 },
 "nbformat": 4,
 "nbformat_minor": 5
}
