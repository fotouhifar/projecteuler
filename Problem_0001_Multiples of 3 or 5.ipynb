{
 "cells": [
  {
   "cell_type": "code",
   "execution_count": 13,
   "id": "1bf9b72d",
   "metadata": {},
   "outputs": [],
   "source": [
    "sum =0"
   ]
  },
  {
   "cell_type": "code",
   "execution_count": 14,
   "id": "53f0f572",
   "metadata": {},
   "outputs": [],
   "source": [
    "for i in range(67):\n",
    "    sum += (3*i + 5*i -15*i)\n",
    "for i in range(67,200):\n",
    "    sum += 3*i + 5*i\n",
    "for i in range(200,334):\n",
    "    sum += 3*i\n",
    "    \n",
    "    "
   ]
  },
  {
   "cell_type": "code",
   "execution_count": 15,
   "id": "595ad232",
   "metadata": {},
   "outputs": [
    {
     "name": "stdout",
     "output_type": "stream",
     "text": [
      "233168\n"
     ]
    }
   ],
   "source": [
    "print(sum)"
   ]
  },
  {
   "cell_type": "code",
   "execution_count": null,
   "id": "32899cbf",
   "metadata": {},
   "outputs": [],
   "source": []
  }
 ],
 "metadata": {
  "kernelspec": {
   "display_name": "Python 3 (ipykernel)",
   "language": "python",
   "name": "python3"
  },
  "language_info": {
   "codemirror_mode": {
    "name": "ipython",
    "version": 3
   },
   "file_extension": ".py",
   "mimetype": "text/x-python",
   "name": "python",
   "nbconvert_exporter": "python",
   "pygments_lexer": "ipython3",
   "version": "3.9.13"
  }
 },
 "nbformat": 4,
 "nbformat_minor": 5
}
