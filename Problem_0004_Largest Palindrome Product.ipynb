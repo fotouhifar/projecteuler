{
 "cells": [
  {
   "cell_type": "code",
   "execution_count": 195,
   "id": "b23f4533",
   "metadata": {},
   "outputs": [],
   "source": [
    "n1 = 999\n",
    "n2 = 999\n",
    "min = 100"
   ]
  },
  {
   "cell_type": "code",
   "execution_count": 196,
   "id": "825cb7f6",
   "metadata": {},
   "outputs": [],
   "source": [
    "LPP = 0"
   ]
  },
  {
   "cell_type": "code",
   "execution_count": 197,
   "id": "150fda96",
   "metadata": {},
   "outputs": [
    {
     "name": "stdout",
     "output_type": "stream",
     "text": [
      "===========================\n",
      "913 993 1906 906609\n"
     ]
    }
   ],
   "source": [
    "for i in range(n1+n2-1):\n",
    "    for j in range(i//2+1):\n",
    "        a = n2-i+j\n",
    "        b = n1-j\n",
    "        if(a*b > 0 and a >= min and b >= min):\n",
    "            prod = a*b\n",
    "            if(str(prod) == str(prod)[::-1] and prod > LPP ):\n",
    "                print(\"===========================\")\n",
    "                LPP = prod\n",
    "                print(a,b,a+b,a*b)"
   ]
  },
  {
   "cell_type": "code",
   "execution_count": 199,
   "id": "ba9c45bb",
   "metadata": {
    "scrolled": true
   },
   "outputs": [
    {
     "data": {
      "text/plain": [
       "906609"
      ]
     },
     "execution_count": 199,
     "metadata": {},
     "output_type": "execute_result"
    }
   ],
   "source": [
    "LPP"
   ]
  },
  {
   "cell_type": "code",
   "execution_count": null,
   "id": "852160f2",
   "metadata": {},
   "outputs": [],
   "source": []
  }
 ],
 "metadata": {
  "kernelspec": {
   "display_name": "Python 3 (ipykernel)",
   "language": "python",
   "name": "python3"
  },
  "language_info": {
   "codemirror_mode": {
    "name": "ipython",
    "version": 3
   },
   "file_extension": ".py",
   "mimetype": "text/x-python",
   "name": "python",
   "nbconvert_exporter": "python",
   "pygments_lexer": "ipython3",
   "version": "3.9.13"
  }
 },
 "nbformat": 4,
 "nbformat_minor": 5
}
