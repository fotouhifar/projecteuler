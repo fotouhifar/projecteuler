{
 "cells": [
  {
   "cell_type": "code",
   "execution_count": 9,
   "id": "30becaf3",
   "metadata": {},
   "outputs": [],
   "source": [
    "Sum_Square_Difference = 0\n",
    "n= 100"
   ]
  },
  {
   "cell_type": "code",
   "execution_count": 10,
   "id": "9cd51f43",
   "metadata": {},
   "outputs": [],
   "source": [
    "for i in range(1,n):\n",
    "    for j in range(i+1,n+1):\n",
    "        Sum_Square_Difference += 2*i*j"
   ]
  },
  {
   "cell_type": "code",
   "execution_count": 11,
   "id": "66c94c6e",
   "metadata": {},
   "outputs": [
    {
     "data": {
      "text/plain": [
       "25164150"
      ]
     },
     "execution_count": 11,
     "metadata": {},
     "output_type": "execute_result"
    }
   ],
   "source": [
    "Sum_Square_Difference"
   ]
  },
  {
   "cell_type": "code",
   "execution_count": null,
   "id": "a6f32a1b",
   "metadata": {},
   "outputs": [],
   "source": []
  }
 ],
 "metadata": {
  "kernelspec": {
   "display_name": "Python 3 (ipykernel)",
   "language": "python",
   "name": "python3"
  },
  "language_info": {
   "codemirror_mode": {
    "name": "ipython",
    "version": 3
   },
   "file_extension": ".py",
   "mimetype": "text/x-python",
   "name": "python",
   "nbconvert_exporter": "python",
   "pygments_lexer": "ipython3",
   "version": "3.9.13"
  }
 },
 "nbformat": 4,
 "nbformat_minor": 5
}
