{
 "cells": [
  {
   "cell_type": "code",
   "execution_count": 1,
   "id": "7548f32e",
   "metadata": {},
   "outputs": [],
   "source": [
    "from sympy import prevprime"
   ]
  },
  {
   "cell_type": "code",
   "execution_count": 7,
   "id": "283e8d88",
   "metadata": {},
   "outputs": [],
   "source": [
    "n = 2_000_000\n",
    "sum_primes = 0"
   ]
  },
  {
   "cell_type": "code",
   "execution_count": 8,
   "id": "75af58cb",
   "metadata": {},
   "outputs": [],
   "source": [
    "while n > 2:\n",
    "    n = prevprime(n)\n",
    "    sum_primes += n\n"
   ]
  },
  {
   "cell_type": "code",
   "execution_count": 9,
   "id": "53d6c0b1",
   "metadata": {},
   "outputs": [
    {
     "data": {
      "text/plain": [
       "142913828922"
      ]
     },
     "execution_count": 9,
     "metadata": {},
     "output_type": "execute_result"
    }
   ],
   "source": [
    "sum_primes"
   ]
  },
  {
   "cell_type": "code",
   "execution_count": null,
   "id": "b3efcb18",
   "metadata": {},
   "outputs": [],
   "source": []
  }
 ],
 "metadata": {
  "kernelspec": {
   "display_name": "Python 3 (ipykernel)",
   "language": "python",
   "name": "python3"
  },
  "language_info": {
   "codemirror_mode": {
    "name": "ipython",
    "version": 3
   },
   "file_extension": ".py",
   "mimetype": "text/x-python",
   "name": "python",
   "nbconvert_exporter": "python",
   "pygments_lexer": "ipython3",
   "version": "3.9.13"
  }
 },
 "nbformat": 4,
 "nbformat_minor": 5
}
