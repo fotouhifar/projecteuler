{
 "cells": [
  {
   "cell_type": "code",
   "execution_count": 60,
   "id": "31fc4377",
   "metadata": {},
   "outputs": [],
   "source": [
    "from sympy.ntheory.factor_ import factorint"
   ]
  },
  {
   "cell_type": "code",
   "execution_count": 61,
   "id": "3afd3ee1",
   "metadata": {},
   "outputs": [],
   "source": [
    "n_factors = {}"
   ]
  },
  {
   "cell_type": "code",
   "execution_count": 62,
   "id": "25d8979c",
   "metadata": {},
   "outputs": [
    {
     "name": "stdout",
     "output_type": "stream",
     "text": [
      "{2: 1}\n",
      "{2: 1, 3: 1}\n",
      "{2: 2, 3: 1}\n",
      "{2: 2, 3: 1, 5: 1}\n",
      "{2: 2, 3: 1, 5: 1, 7: 1}\n",
      "{2: 3, 3: 1, 5: 1, 7: 1}\n",
      "{2: 3, 3: 2, 5: 1, 7: 1}\n",
      "{2: 3, 3: 2, 5: 1, 7: 1, 11: 1}\n",
      "{2: 3, 3: 2, 5: 1, 7: 1, 11: 1, 13: 1}\n",
      "{2: 4, 3: 2, 5: 1, 7: 1, 11: 1, 13: 1}\n",
      "{2: 4, 3: 2, 5: 1, 7: 1, 11: 1, 13: 1, 17: 1}\n",
      "{2: 4, 3: 2, 5: 1, 7: 1, 11: 1, 13: 1, 17: 1, 19: 1}\n"
     ]
    }
   ],
   "source": [
    "for n in range(1,21):\n",
    "    #print(n, \" -> \", factorint(n))\n",
    "    for k in factorint(n):\n",
    "        if k not in n_factors:\n",
    "            n_factors[k] = factorint(n)[k]\n",
    "            print(n_factors)\n",
    "        else:\n",
    "            if n_factors[k] < factorint(n)[k]:\n",
    "                n_factors[k] = max(n_factors[k], factorint(n)[k])\n",
    "                print(n_factors)\n",
    "        \n",
    "        "
   ]
  },
  {
   "cell_type": "code",
   "execution_count": 57,
   "id": "30837f4c",
   "metadata": {},
   "outputs": [],
   "source": [
    "Smallest_Multiple = 1"
   ]
  },
  {
   "cell_type": "code",
   "execution_count": 58,
   "id": "22764830",
   "metadata": {},
   "outputs": [
    {
     "name": "stdout",
     "output_type": "stream",
     "text": [
      "2 4\n",
      "3 2\n",
      "5 1\n",
      "7 1\n",
      "11 1\n",
      "13 1\n",
      "17 1\n",
      "19 1\n"
     ]
    }
   ],
   "source": [
    "for e in n_factors:\n",
    "    Smallest_Multiple *= (e ** n_factors[e])\n",
    "    print(e , n_factors[e])"
   ]
  },
  {
   "cell_type": "code",
   "execution_count": 59,
   "id": "547c6fb2",
   "metadata": {},
   "outputs": [
    {
     "data": {
      "text/plain": [
       "232792560"
      ]
     },
     "execution_count": 59,
     "metadata": {},
     "output_type": "execute_result"
    }
   ],
   "source": [
    "Smallest_Multiple"
   ]
  },
  {
   "cell_type": "code",
   "execution_count": null,
   "id": "59e16890",
   "metadata": {},
   "outputs": [],
   "source": []
  }
 ],
 "metadata": {
  "kernelspec": {
   "display_name": "Python 3 (ipykernel)",
   "language": "python",
   "name": "python3"
  },
  "language_info": {
   "codemirror_mode": {
    "name": "ipython",
    "version": 3
   },
   "file_extension": ".py",
   "mimetype": "text/x-python",
   "name": "python",
   "nbconvert_exporter": "python",
   "pygments_lexer": "ipython3",
   "version": "3.9.13"
  }
 },
 "nbformat": 4,
 "nbformat_minor": 5
}
