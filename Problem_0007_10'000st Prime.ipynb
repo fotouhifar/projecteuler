{
 "cells": [
  {
   "cell_type": "markdown",
   "id": "8957e09f",
   "metadata": {},
   "source": [
    "## using sympy"
   ]
  },
  {
   "cell_type": "code",
   "execution_count": 55,
   "id": "0994bc8d",
   "metadata": {
    "scrolled": true
   },
   "outputs": [
    {
     "data": {
      "text/plain": [
       "104743"
      ]
     },
     "execution_count": 55,
     "metadata": {},
     "output_type": "execute_result"
    }
   ],
   "source": [
    "from sympy import prime\n",
    "prime(10_001)"
   ]
  },
  {
   "cell_type": "markdown",
   "id": "c801f9f8",
   "metadata": {},
   "source": [
    "## Second approach"
   ]
  },
  {
   "cell_type": "code",
   "execution_count": 62,
   "id": "8bb9b7ff",
   "metadata": {},
   "outputs": [],
   "source": [
    "primes = [2]"
   ]
  },
  {
   "cell_type": "code",
   "execution_count": 63,
   "id": "8b5bf354",
   "metadata": {},
   "outputs": [],
   "source": [
    "n = 1\n",
    "while len(primes) < 10001:\n",
    "    n+=2\n",
    "    for i in primes:        \n",
    "        if n % i == 0:\n",
    "            break\n",
    "        elif i > n**(1/2):\n",
    "            primes.append(n)\n",
    "            break\n",
    "        "
   ]
  },
  {
   "cell_type": "code",
   "execution_count": 64,
   "id": "5b3029f5",
   "metadata": {},
   "outputs": [
    {
     "data": {
      "text/plain": [
       "104743"
      ]
     },
     "execution_count": 64,
     "metadata": {},
     "output_type": "execute_result"
    }
   ],
   "source": [
    "primes[-1]"
   ]
  },
  {
   "cell_type": "code",
   "execution_count": null,
   "id": "3cdea383",
   "metadata": {},
   "outputs": [],
   "source": []
  }
 ],
 "metadata": {
  "kernelspec": {
   "display_name": "Python 3 (ipykernel)",
   "language": "python",
   "name": "python3"
  },
  "language_info": {
   "codemirror_mode": {
    "name": "ipython",
    "version": 3
   },
   "file_extension": ".py",
   "mimetype": "text/x-python",
   "name": "python",
   "nbconvert_exporter": "python",
   "pygments_lexer": "ipython3",
   "version": "3.9.13"
  }
 },
 "nbformat": 4,
 "nbformat_minor": 5
}
