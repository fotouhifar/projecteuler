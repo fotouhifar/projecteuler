{
 "cells": [
  {
   "cell_type": "code",
   "execution_count": 28,
   "id": "d4695fc8",
   "metadata": {},
   "outputs": [],
   "source": [
    "fn_3 = 1\n",
    "fn_2 = 2\n",
    "fn_1 = 3\n",
    "fn = 5"
   ]
  },
  {
   "cell_type": "code",
   "execution_count": 29,
   "id": "0e428897",
   "metadata": {},
   "outputs": [],
   "source": [
    "for i in range(50):\n",
    "    goldern_ratio = fn / fn_1\n",
    "    every_seconds = fn/fn_2\n",
    "    every_third = fn/fn_3\n",
    "    fn_3 = fn_2\n",
    "    fn_2 = fn_1\n",
    "    fn_1 = fn\n",
    "    fn = fn_1 + fn_2"
   ]
  },
  {
   "cell_type": "code",
   "execution_count": 35,
   "id": "5c5bff39",
   "metadata": {},
   "outputs": [
    {
     "data": {
      "text/plain": [
       "(1.618033988749895, 2.618033988749895, 4.23606797749979)"
      ]
     },
     "execution_count": 35,
     "metadata": {},
     "output_type": "execute_result"
    }
   ],
   "source": [
    "goldern_ratio, every_seconds, every_third"
   ]
  },
  {
   "cell_type": "code",
   "execution_count": 36,
   "id": "e04a0830",
   "metadata": {},
   "outputs": [],
   "source": [
    "last = 2\n",
    "sum = 0"
   ]
  },
  {
   "cell_type": "code",
   "execution_count": 33,
   "id": "54cd6083",
   "metadata": {},
   "outputs": [],
   "source": [
    "while last< 4_000_000:\n",
    "    sum += last\n",
    "    last = round(last * every_third)"
   ]
  },
  {
   "cell_type": "code",
   "execution_count": 34,
   "id": "469ae4f1",
   "metadata": {},
   "outputs": [
    {
     "data": {
      "text/plain": [
       "4613734"
      ]
     },
     "execution_count": 34,
     "metadata": {},
     "output_type": "execute_result"
    }
   ],
   "source": [
    "sum"
   ]
  },
  {
   "cell_type": "code",
   "execution_count": null,
   "id": "7b9ac3c9",
   "metadata": {},
   "outputs": [],
   "source": []
  }
 ],
 "metadata": {
  "kernelspec": {
   "display_name": "Python 3 (ipykernel)",
   "language": "python",
   "name": "python3"
  },
  "language_info": {
   "codemirror_mode": {
    "name": "ipython",
    "version": 3
   },
   "file_extension": ".py",
   "mimetype": "text/x-python",
   "name": "python",
   "nbconvert_exporter": "python",
   "pygments_lexer": "ipython3",
   "version": "3.9.13"
  }
 },
 "nbformat": 4,
 "nbformat_minor": 5
}
