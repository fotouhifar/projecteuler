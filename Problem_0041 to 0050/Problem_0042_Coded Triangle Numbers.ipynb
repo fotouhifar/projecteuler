{
 "cells": [
  {
   "cell_type": "code",
   "execution_count": 55,
   "id": "8afc3869",
   "metadata": {},
   "outputs": [],
   "source": [
    "with open('files/0042_words.txt') as f:\n",
    "    words = f.read()\n",
    "    "
   ]
  },
  {
   "cell_type": "code",
   "execution_count": 56,
   "id": "945b892e",
   "metadata": {},
   "outputs": [],
   "source": [
    "words = [w for w in words[1:-1].split('\",\"')]\n"
   ]
  },
  {
   "cell_type": "code",
   "execution_count": 57,
   "id": "a511dcc1",
   "metadata": {},
   "outputs": [],
   "source": [
    "def nth_triangle_number(n):\n",
    "    return int((1/2)*n*(n+1))"
   ]
  },
  {
   "cell_type": "code",
   "execution_count": 58,
   "id": "dd67bae0",
   "metadata": {},
   "outputs": [],
   "source": [
    "def ordminus64(c):\n",
    "    return ord(c)-64"
   ]
  },
  {
   "cell_type": "code",
   "execution_count": 59,
   "id": "d88f4399",
   "metadata": {},
   "outputs": [],
   "source": [
    "def act_on_iter(iter_obj, i):\n",
    "    return iter_obj(i)"
   ]
  },
  {
   "cell_type": "code",
   "execution_count": 61,
   "id": "cb744591",
   "metadata": {},
   "outputs": [
    {
     "name": "stdout",
     "output_type": "stream",
     "text": [
      "['A', 'ABILITY', 'ABOVE', 'ACCOMPANY', 'ACHIEVEMENT', 'AGENCY', 'AGREE', 'AIR', 'ALREADY', 'AN', 'ANCIENT', 'APPARENT', 'APPOINT', 'APPROACH', 'ASSUME', 'AT', 'ATMOSPHERE', 'BAG', 'BAND', 'BANK', 'BAR', 'BEAT', 'BELONG', 'BENEATH', 'BONE', 'BOTH', 'BRIDGE', 'BUILDING', 'BURN', 'CALL', 'CAPACITY', 'CAREFUL', 'CASE', 'CHILD', 'CIVIL', 'CLOSELY', 'COME', 'CONFIDENCE', 'CONFIRM', 'CONSERVATIVE', 'CONSTRUCTION', 'CONTENT', 'COULD', 'CURRENTLY', 'DECISION', 'DEFINITION', 'DEMOCRATIC', 'DEPUTY', 'DESPITE', 'DISTINCTION', 'EAST', 'EDGE', 'EDUCATIONAL', 'EFFECT', 'EQUIPMENT', 'EVENT', 'FACE', 'FAIL', 'FAMILY', 'FEEL', 'FIELD', 'FIGURE', 'FLOOR', 'FREEDOM', 'FUND', 'FUTURE', 'GENTLEMAN', 'GREY', 'GROWTH', 'HAIR', 'HAPPY', 'HAVE', 'HERE', 'HIS', 'IF', 'INCIDENT', 'INCREASED', 'INCREASINGLY', 'INDIVIDUAL', 'INSTRUMENT', 'INTEND', 'INTENTION', 'IS', 'LAW', 'LEADER', 'LEAVE', 'LENGTH', 'LESS', 'LITTLE', 'LOVELY', 'MAN', 'MATCH', 'MERELY', 'MILK', 'MISTAKE', 'MOVE', 'MUCH', 'NEED', 'NOTICE', 'OBJECT', 'OBJECTIVE', 'OF', 'OIL', 'ONLY', 'OTHER', 'OURSELVES', 'PART', 'PASS', 'PATH', 'PERFORM', 'PRISON', 'PRIVATE', 'PROBABLY', 'PROCEDURE', 'QUALITY', 'QUESTION', 'RANGE', 'READ', 'REAL', 'RELIEF', 'REMOVE', 'REPRESENT', 'REQUEST', 'RESPOND', 'RIDE', 'SAMPLE', 'SAY', 'SEAT', 'SECURITY', 'SINGLE', 'SKY', 'SOIL', 'SOLICITOR', 'SONG', 'SOUTHERN', 'SPIRIT', 'START', 'SUGGESTION', 'TALL', 'TAX', 'THEORY', 'THREATEN', 'THROUGHOUT', 'TITLE', 'TOOTH', 'TOTALLY', 'TRAVEL', 'TYPE', 'UNABLE', 'UNDERSTAND', 'UPON', 'USE', 'VARIOUS', 'VARY', 'VIDEO', 'WAGE', 'WARM', 'WATCH', 'WE', 'WHILST', 'WIDELY', 'WOMAN']\n",
      "number of triangle words =  162\n"
     ]
    }
   ],
   "source": [
    "triangle_numbers = [1]\n",
    "triangle_words = []\n",
    "for word in words:\n",
    "    #print(word)\n",
    "    chrs = list(map(ordminus64, [w for w in word]))\n",
    "    #print(chrs)\n",
    "    #print(sum(chrs))\n",
    "    while triangle_numbers[-1] < sum(chrs):\n",
    "        triangle_numbers.append(nth_triangle_number(len(triangle_numbers)+1))\n",
    "    if sum(chrs) in triangle_numbers : triangle_words.append(word)\n",
    "    #print(\"------------------\")\n",
    "\n",
    "    #print(triangle_numbers)\n",
    "print(triangle_words)\n",
    "print(\"number of triangle words = \", len(triangle_words))\n",
    "    \n",
    "    "
   ]
  },
  {
   "cell_type": "code",
   "execution_count": null,
   "id": "4403021a",
   "metadata": {},
   "outputs": [],
   "source": []
  }
 ],
 "metadata": {
  "kernelspec": {
   "display_name": "Python 3 (ipykernel)",
   "language": "python",
   "name": "python3"
  },
  "language_info": {
   "codemirror_mode": {
    "name": "ipython",
    "version": 3
   },
   "file_extension": ".py",
   "mimetype": "text/x-python",
   "name": "python",
   "nbconvert_exporter": "python",
   "pygments_lexer": "ipython3",
   "version": "3.9.13"
  }
 },
 "nbformat": 4,
 "nbformat_minor": 5
}
