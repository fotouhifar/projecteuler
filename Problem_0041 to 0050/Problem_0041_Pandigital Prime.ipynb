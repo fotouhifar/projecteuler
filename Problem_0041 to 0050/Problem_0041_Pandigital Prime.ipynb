{
 "cells": [
  {
   "cell_type": "code",
   "execution_count": 4,
   "id": "e474f097",
   "metadata": {},
   "outputs": [],
   "source": [
    "import itertools\n",
    "from sympy.ntheory import isprime\n",
    "import sys"
   ]
  },
  {
   "cell_type": "code",
   "execution_count": 14,
   "id": "7d310694",
   "metadata": {
    "scrolled": true
   },
   "outputs": [
    {
     "name": "stdout",
     "output_type": "stream",
     "text": [
      "(7, 6, 5, 2, 4, 1, 3) 7652413\n"
     ]
    },
    {
     "ename": "SystemExit",
     "evalue": "1",
     "output_type": "error",
     "traceback": [
      "An exception has occurred, use %tb to see the full traceback.\n",
      "\u001b[1;31mSystemExit\u001b[0m\u001b[1;31m:\u001b[0m 1\n"
     ]
    }
   ],
   "source": [
    "for n in range(9,1,-1):\n",
    "    numbers = itertools.permutations(range(n,0,-1), n)\n",
    "    for n in numbers:\n",
    "        s = int(''.join(map(str, n)))\n",
    "        if(isprime(s)):\n",
    "            print(n, s)\n",
    "            sys.exit(1)\n",
    "    \n",
    "        "
   ]
  },
  {
   "cell_type": "code",
   "execution_count": 43,
   "id": "e64809c2",
   "metadata": {},
   "outputs": [],
   "source": [
    "from sympy.ntheory import isprime"
   ]
  },
  {
   "cell_type": "code",
   "execution_count": 41,
   "id": "6003a54e",
   "metadata": {},
   "outputs": [
    {
     "data": {
      "text/plain": [
       "True"
      ]
     },
     "execution_count": 41,
     "metadata": {},
     "output_type": "execute_result"
    }
   ],
   "source": [
    "isprime(2143)"
   ]
  },
  {
   "cell_type": "code",
   "execution_count": null,
   "id": "8fc1bdad",
   "metadata": {},
   "outputs": [],
   "source": []
  }
 ],
 "metadata": {
  "kernelspec": {
   "display_name": "Python 3 (ipykernel)",
   "language": "python",
   "name": "python3"
  },
  "language_info": {
   "codemirror_mode": {
    "name": "ipython",
    "version": 3
   },
   "file_extension": ".py",
   "mimetype": "text/x-python",
   "name": "python",
   "nbconvert_exporter": "python",
   "pygments_lexer": "ipython3",
   "version": "3.9.13"
  }
 },
 "nbformat": 4,
 "nbformat_minor": 5
}
