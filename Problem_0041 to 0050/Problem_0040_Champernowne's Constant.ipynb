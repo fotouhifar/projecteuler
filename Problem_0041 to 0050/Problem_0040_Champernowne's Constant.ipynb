{
 "cells": [
  {
   "cell_type": "code",
   "execution_count": 27,
   "id": "65612c14",
   "metadata": {},
   "outputs": [],
   "source": [
    "import numpy as np"
   ]
  },
  {
   "cell_type": "code",
   "execution_count": 28,
   "id": "9cbd74ab",
   "metadata": {},
   "outputs": [],
   "source": [
    "def nth(n):\n",
    "    irrational_decimal_fraction=\"\"\n",
    "    i=0\n",
    "    while True:\n",
    "        if(len(irrational_decimal_fraction) < n):\n",
    "            i +=1\n",
    "            irrational_decimal_fraction += str(i)\n",
    "        else:\n",
    "            #print(\"n = \", n)\n",
    "            #print(irrational_decimal_fraction)\n",
    "            return irrational_decimal_fraction[n-1]\n",
    "    \n",
    "    \n",
    "    \n",
    "    "
   ]
  },
  {
   "cell_type": "code",
   "execution_count": 20,
   "id": "83aae288",
   "metadata": {},
   "outputs": [
    {
     "data": {
      "text/plain": [
       "[1, 10, 100, 1000, 10000, 100000, 1000000]"
      ]
     },
     "execution_count": 20,
     "metadata": {},
     "output_type": "execute_result"
    }
   ],
   "source": [
    "ind = [10**n for n in [0,1,2,3,4,5,6]]\n",
    "ind"
   ]
  },
  {
   "cell_type": "code",
   "execution_count": 22,
   "id": "1276f336",
   "metadata": {},
   "outputs": [
    {
     "data": {
      "text/plain": [
       "[1, 1, 5, 3, 7, 2, 1]"
      ]
     },
     "execution_count": 22,
     "metadata": {},
     "output_type": "execute_result"
    }
   ],
   "source": [
    "l = [int(nth(i)) for i in ind]\n",
    "l"
   ]
  },
  {
   "cell_type": "code",
   "execution_count": 26,
   "id": "3e1569bc",
   "metadata": {},
   "outputs": [
    {
     "data": {
      "text/plain": [
       "210"
      ]
     },
     "execution_count": 26,
     "metadata": {},
     "output_type": "execute_result"
    }
   ],
   "source": [
    "np.prod(l)"
   ]
  },
  {
   "cell_type": "code",
   "execution_count": 24,
   "id": "5080c574",
   "metadata": {},
   "outputs": [],
   "source": []
  },
  {
   "cell_type": "code",
   "execution_count": null,
   "id": "1206ccc3",
   "metadata": {},
   "outputs": [],
   "source": []
  }
 ],
 "metadata": {
  "kernelspec": {
   "display_name": "Python 3 (ipykernel)",
   "language": "python",
   "name": "python3"
  },
  "language_info": {
   "codemirror_mode": {
    "name": "ipython",
    "version": 3
   },
   "file_extension": ".py",
   "mimetype": "text/x-python",
   "name": "python",
   "nbconvert_exporter": "python",
   "pygments_lexer": "ipython3",
   "version": "3.9.13"
  }
 },
 "nbformat": 4,
 "nbformat_minor": 5
}
