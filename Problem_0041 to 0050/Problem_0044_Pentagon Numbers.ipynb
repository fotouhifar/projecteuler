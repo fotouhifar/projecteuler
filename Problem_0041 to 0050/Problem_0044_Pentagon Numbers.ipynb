{
 "cells": [
  {
   "cell_type": "code",
   "execution_count": 88,
   "id": "c09f4de8",
   "metadata": {},
   "outputs": [],
   "source": [
    "def nth_Pentagon(n):\n",
    "    return int(n*(3*n -1)/2)\n",
    "    "
   ]
  },
  {
   "cell_type": "code",
   "execution_count": 89,
   "id": "ed5d0c6a",
   "metadata": {},
   "outputs": [],
   "source": [
    "def is_pentagonic(x):\n",
    "    n = (1+(1+24*x)**(1/2))/6\n",
    "    return n == int(n)"
   ]
  },
  {
   "cell_type": "code",
   "execution_count": 90,
   "id": "9f3765b2",
   "metadata": {},
   "outputs": [],
   "source": [
    "pentagons=[1]"
   ]
  },
  {
   "cell_type": "code",
   "execution_count": 91,
   "id": "c1e2eb49",
   "metadata": {},
   "outputs": [
    {
     "name": "stdout",
     "output_type": "stream",
     "text": [
      "P( 2167 )=  7042750 , P( 1020 )=  1560090 , D=  5482660\n"
     ]
    }
   ],
   "source": [
    "while len(pentagons) < 2500:\n",
    "    pentagons.append(nth_Pentagon(len(pentagons)+1))\n",
    "    \n",
    "    for i in range(len(pentagons)-1):\n",
    "\n",
    "        if is_pentagonic(pentagons[-1] - pentagons[i]) and is_pentagonic(pentagons[-1] + pentagons[i]):\n",
    "            print(\"P(\",len(pentagons),\")= \",pentagons[-1] , \", P(\",i+1, \")= \", pentagons[i], \", D= \", (pentagons[-1] - pentagons[i]) )\n",
    "    \n",
    "    \n",
    "\n",
    "\n",
    "    "
   ]
  },
  {
   "cell_type": "code",
   "execution_count": null,
   "id": "e3234f5b",
   "metadata": {},
   "outputs": [],
   "source": []
  }
 ],
 "metadata": {
  "kernelspec": {
   "display_name": "Python 3 (ipykernel)",
   "language": "python",
   "name": "python3"
  },
  "language_info": {
   "codemirror_mode": {
    "name": "ipython",
    "version": 3
   },
   "file_extension": ".py",
   "mimetype": "text/x-python",
   "name": "python",
   "nbconvert_exporter": "python",
   "pygments_lexer": "ipython3",
   "version": "3.9.13"
  }
 },
 "nbformat": 4,
 "nbformat_minor": 5
}
